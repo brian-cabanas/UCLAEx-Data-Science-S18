{
 "cells": [
  {
   "cell_type": "markdown",
   "metadata": {},
   "source": [
    "# Homework"
   ]
  },
  {
   "cell_type": "markdown",
   "metadata": {
    "deletable": false,
    "editable": false,
    "nbgrader": {
     "checksum": "2e110834e11fcf5500f4dd9e5f72b5b8",
     "grade": false,
     "grade_id": "cell-80b77fe0d5d362ae",
     "locked": true,
     "schema_version": 1,
     "solution": false
    }
   },
   "source": [
    "#### Explain the bias-variance tradeoff."
   ]
  },
  {
   "cell_type": "markdown",
   "metadata": {
    "deletable": false,
    "nbgrader": {
     "checksum": "a3ae4a44207d40f055e076aabbb09b45",
     "grade": true,
     "grade_id": "cell-e573d055cfb4a916",
     "locked": false,
     "points": 4,
     "schema_version": 1,
     "solution": true
    }
   },
   "source": [
    "When training a predictive model, different algorithms gives you a high bias and low variance, or high variance and low bias. Bias is when the algorithm is learning from a dataset with few features in which it produces an underfit model. This can cause the model to be consistent on different training data sets, but inaccurate on average.  Variance is when the algorithm is learning from a set of data points with a lot of features in which it produces an overfit model.  This can cause the model to be accurate on average, but inconsistent with different training data sets.\n",
    "\n",
    "Ref: \"https://elitedatascience.com/bias-variance-tradeoff\""
   ]
  },
  {
   "cell_type": "markdown",
   "metadata": {
    "deletable": false,
    "editable": false,
    "nbgrader": {
     "checksum": "83886665b6d5458966acb332c5e17c68",
     "grade": false,
     "grade_id": "cell-c40be3d158eb9ad1",
     "locked": true,
     "schema_version": 1,
     "solution": false
    }
   },
   "source": [
    "#### Discuss the pros and cons of using the BIC to select a model."
   ]
  },
  {
   "cell_type": "markdown",
   "metadata": {
    "deletable": false,
    "nbgrader": {
     "checksum": "25405a06bb3615c01ebf2da1294c49a8",
     "grade": true,
     "grade_id": "cell-5df930a8f675836a",
     "locked": false,
     "points": 10,
     "schema_version": 1,
     "solution": true
    }
   },
   "source": [
    "Pros:\n",
    "-Allows us to figure out which model with the right features will give us the best model\n",
    "-Used to find the correct of amount of clusters\n",
    "\n",
    "Cons:\n",
    "-BIC is only valid when n is much larger than k\n",
    "-BIC can't handle high dimenions of features\n",
    "\n",
    "Ref:\"https://en.wikipedia.org/wiki/Bayesian_information_criterion\""
   ]
  },
  {
   "cell_type": "markdown",
   "metadata": {},
   "source": [
    "# Model Selection on a Classification Model"
   ]
  },
  {
   "cell_type": "code",
   "execution_count": 19,
   "metadata": {
    "scrolled": true
   },
   "outputs": [
    {
     "data": {
      "text/html": [
       "<table>\n",
       "<thead><tr><th></th><th scope=col>sepal_length</th><th scope=col>sepal_width</th><th scope=col>petal_length</th><th scope=col>petal_width</th><th scope=col>label</th></tr></thead>\n",
       "<tbody>\n",
       "\t<tr><th scope=row>0</th><td>5.1</td><td>3.5</td><td>1.4</td><td>0.2</td><td>0  </td></tr>\n",
       "\t<tr><th scope=row>1</th><td>4.9</td><td>3.0</td><td>1.4</td><td>0.2</td><td>0  </td></tr>\n",
       "\t<tr><th scope=row>2</th><td>4.7</td><td>3.2</td><td>1.3</td><td>0.2</td><td>0  </td></tr>\n",
       "\t<tr><th scope=row>3</th><td>4.6</td><td>3.1</td><td>1.5</td><td>0.2</td><td>0  </td></tr>\n",
       "\t<tr><th scope=row>4</th><td>5.0</td><td>3.6</td><td>1.4</td><td>0.2</td><td>0  </td></tr>\n",
       "\t<tr><th scope=row>5</th><td>5.4</td><td>3.9</td><td>1.7</td><td>0.4</td><td>0  </td></tr>\n",
       "\t<tr><th scope=row>6</th><td>4.6</td><td>3.4</td><td>1.4</td><td>0.3</td><td>0  </td></tr>\n",
       "\t<tr><th scope=row>7</th><td>5.0</td><td>3.4</td><td>1.5</td><td>0.2</td><td>0  </td></tr>\n",
       "\t<tr><th scope=row>8</th><td>4.4</td><td>2.9</td><td>1.4</td><td>0.2</td><td>0  </td></tr>\n",
       "\t<tr><th scope=row>9</th><td>4.9</td><td>3.1</td><td>1.5</td><td>0.1</td><td>0  </td></tr>\n",
       "\t<tr><th scope=row>10</th><td>5.4</td><td>3.7</td><td>1.5</td><td>0.2</td><td>0  </td></tr>\n",
       "\t<tr><th scope=row>11</th><td>4.8</td><td>3.4</td><td>1.6</td><td>0.2</td><td>0  </td></tr>\n",
       "\t<tr><th scope=row>12</th><td>4.8</td><td>3.0</td><td>1.4</td><td>0.1</td><td>0  </td></tr>\n",
       "\t<tr><th scope=row>13</th><td>4.3</td><td>3.0</td><td>1.1</td><td>0.1</td><td>0  </td></tr>\n",
       "\t<tr><th scope=row>14</th><td>5.8</td><td>4.0</td><td>1.2</td><td>0.2</td><td>0  </td></tr>\n",
       "\t<tr><th scope=row>15</th><td>5.7</td><td>4.4</td><td>1.5</td><td>0.4</td><td>0  </td></tr>\n",
       "\t<tr><th scope=row>16</th><td>5.4</td><td>3.9</td><td>1.3</td><td>0.4</td><td>0  </td></tr>\n",
       "\t<tr><th scope=row>17</th><td>5.1</td><td>3.5</td><td>1.4</td><td>0.3</td><td>0  </td></tr>\n",
       "\t<tr><th scope=row>18</th><td>5.7</td><td>3.8</td><td>1.7</td><td>0.3</td><td>0  </td></tr>\n",
       "\t<tr><th scope=row>19</th><td>5.1</td><td>3.8</td><td>1.5</td><td>0.3</td><td>0  </td></tr>\n",
       "\t<tr><th scope=row>20</th><td>5.4</td><td>3.4</td><td>1.7</td><td>0.2</td><td>0  </td></tr>\n",
       "\t<tr><th scope=row>21</th><td>5.1</td><td>3.7</td><td>1.5</td><td>0.4</td><td>0  </td></tr>\n",
       "\t<tr><th scope=row>22</th><td>4.6</td><td>3.6</td><td>1.0</td><td>0.2</td><td>0  </td></tr>\n",
       "\t<tr><th scope=row>23</th><td>5.1</td><td>3.3</td><td>1.7</td><td>0.5</td><td>0  </td></tr>\n",
       "\t<tr><th scope=row>24</th><td>4.8</td><td>3.4</td><td>1.9</td><td>0.2</td><td>0  </td></tr>\n",
       "\t<tr><th scope=row>25</th><td>5.0</td><td>3.0</td><td>1.6</td><td>0.2</td><td>0  </td></tr>\n",
       "\t<tr><th scope=row>26</th><td>5.0</td><td>3.4</td><td>1.6</td><td>0.4</td><td>0  </td></tr>\n",
       "\t<tr><th scope=row>27</th><td>5.2</td><td>3.5</td><td>1.5</td><td>0.2</td><td>0  </td></tr>\n",
       "\t<tr><th scope=row>28</th><td>5.2</td><td>3.4</td><td>1.4</td><td>0.2</td><td>0  </td></tr>\n",
       "\t<tr><th scope=row>29</th><td>4.7</td><td>3.2</td><td>1.6</td><td>0.2</td><td>0  </td></tr>\n",
       "\t<tr><th scope=row>⋮</th><td>⋮</td><td>⋮</td><td>⋮</td><td>⋮</td><td>⋮</td></tr>\n",
       "\t<tr><th scope=row>120</th><td>6.9</td><td>3.2</td><td>5.7</td><td>2.3</td><td>2  </td></tr>\n",
       "\t<tr><th scope=row>121</th><td>5.6</td><td>2.8</td><td>4.9</td><td>2.0</td><td>2  </td></tr>\n",
       "\t<tr><th scope=row>122</th><td>7.7</td><td>2.8</td><td>6.7</td><td>2.0</td><td>2  </td></tr>\n",
       "\t<tr><th scope=row>123</th><td>6.3</td><td>2.7</td><td>4.9</td><td>1.8</td><td>2  </td></tr>\n",
       "\t<tr><th scope=row>124</th><td>6.7</td><td>3.3</td><td>5.7</td><td>2.1</td><td>2  </td></tr>\n",
       "\t<tr><th scope=row>125</th><td>7.2</td><td>3.2</td><td>6.0</td><td>1.8</td><td>2  </td></tr>\n",
       "\t<tr><th scope=row>126</th><td>6.2</td><td>2.8</td><td>4.8</td><td>1.8</td><td>2  </td></tr>\n",
       "\t<tr><th scope=row>127</th><td>6.1</td><td>3.0</td><td>4.9</td><td>1.8</td><td>2  </td></tr>\n",
       "\t<tr><th scope=row>128</th><td>6.4</td><td>2.8</td><td>5.6</td><td>2.1</td><td>2  </td></tr>\n",
       "\t<tr><th scope=row>129</th><td>7.2</td><td>3.0</td><td>5.8</td><td>1.6</td><td>2  </td></tr>\n",
       "\t<tr><th scope=row>130</th><td>7.4</td><td>2.8</td><td>6.1</td><td>1.9</td><td>2  </td></tr>\n",
       "\t<tr><th scope=row>131</th><td>7.9</td><td>3.8</td><td>6.4</td><td>2.0</td><td>2  </td></tr>\n",
       "\t<tr><th scope=row>132</th><td>6.4</td><td>2.8</td><td>5.6</td><td>2.2</td><td>2  </td></tr>\n",
       "\t<tr><th scope=row>133</th><td>6.3</td><td>2.8</td><td>5.1</td><td>1.5</td><td>2  </td></tr>\n",
       "\t<tr><th scope=row>134</th><td>6.1</td><td>2.6</td><td>5.6</td><td>1.4</td><td>2  </td></tr>\n",
       "\t<tr><th scope=row>135</th><td>7.7</td><td>3.0</td><td>6.1</td><td>2.3</td><td>2  </td></tr>\n",
       "\t<tr><th scope=row>136</th><td>6.3</td><td>3.4</td><td>5.6</td><td>2.4</td><td>2  </td></tr>\n",
       "\t<tr><th scope=row>137</th><td>6.4</td><td>3.1</td><td>5.5</td><td>1.8</td><td>2  </td></tr>\n",
       "\t<tr><th scope=row>138</th><td>6.0</td><td>3.0</td><td>4.8</td><td>1.8</td><td>2  </td></tr>\n",
       "\t<tr><th scope=row>139</th><td>6.9</td><td>3.1</td><td>5.4</td><td>2.1</td><td>2  </td></tr>\n",
       "\t<tr><th scope=row>140</th><td>6.7</td><td>3.1</td><td>5.6</td><td>2.4</td><td>2  </td></tr>\n",
       "\t<tr><th scope=row>141</th><td>6.9</td><td>3.1</td><td>5.1</td><td>2.3</td><td>2  </td></tr>\n",
       "\t<tr><th scope=row>142</th><td>5.8</td><td>2.7</td><td>5.1</td><td>1.9</td><td>2  </td></tr>\n",
       "\t<tr><th scope=row>143</th><td>6.8</td><td>3.2</td><td>5.9</td><td>2.3</td><td>2  </td></tr>\n",
       "\t<tr><th scope=row>144</th><td>6.7</td><td>3.3</td><td>5.7</td><td>2.5</td><td>2  </td></tr>\n",
       "\t<tr><th scope=row>145</th><td>6.7</td><td>3.0</td><td>5.2</td><td>2.3</td><td>2  </td></tr>\n",
       "\t<tr><th scope=row>146</th><td>6.3</td><td>2.5</td><td>5.0</td><td>1.9</td><td>2  </td></tr>\n",
       "\t<tr><th scope=row>147</th><td>6.5</td><td>3.0</td><td>5.2</td><td>2.0</td><td>2  </td></tr>\n",
       "\t<tr><th scope=row>148</th><td>6.2</td><td>3.4</td><td>5.4</td><td>2.3</td><td>2  </td></tr>\n",
       "\t<tr><th scope=row>149</th><td>5.9</td><td>3.0</td><td>5.1</td><td>1.8</td><td>2  </td></tr>\n",
       "</tbody>\n",
       "</table>\n"
      ],
      "text/latex": [
       "\\begin{tabular}{r|lllll}\n",
       "  & sepal\\_length & sepal\\_width & petal\\_length & petal\\_width & label\\\\\n",
       "\\hline\n",
       "\t0 & 5.1 & 3.5 & 1.4 & 0.2 & 0  \\\\\n",
       "\t1 & 4.9 & 3.0 & 1.4 & 0.2 & 0  \\\\\n",
       "\t2 & 4.7 & 3.2 & 1.3 & 0.2 & 0  \\\\\n",
       "\t3 & 4.6 & 3.1 & 1.5 & 0.2 & 0  \\\\\n",
       "\t4 & 5.0 & 3.6 & 1.4 & 0.2 & 0  \\\\\n",
       "\t5 & 5.4 & 3.9 & 1.7 & 0.4 & 0  \\\\\n",
       "\t6 & 4.6 & 3.4 & 1.4 & 0.3 & 0  \\\\\n",
       "\t7 & 5.0 & 3.4 & 1.5 & 0.2 & 0  \\\\\n",
       "\t8 & 4.4 & 2.9 & 1.4 & 0.2 & 0  \\\\\n",
       "\t9 & 4.9 & 3.1 & 1.5 & 0.1 & 0  \\\\\n",
       "\t10 & 5.4 & 3.7 & 1.5 & 0.2 & 0  \\\\\n",
       "\t11 & 4.8 & 3.4 & 1.6 & 0.2 & 0  \\\\\n",
       "\t12 & 4.8 & 3.0 & 1.4 & 0.1 & 0  \\\\\n",
       "\t13 & 4.3 & 3.0 & 1.1 & 0.1 & 0  \\\\\n",
       "\t14 & 5.8 & 4.0 & 1.2 & 0.2 & 0  \\\\\n",
       "\t15 & 5.7 & 4.4 & 1.5 & 0.4 & 0  \\\\\n",
       "\t16 & 5.4 & 3.9 & 1.3 & 0.4 & 0  \\\\\n",
       "\t17 & 5.1 & 3.5 & 1.4 & 0.3 & 0  \\\\\n",
       "\t18 & 5.7 & 3.8 & 1.7 & 0.3 & 0  \\\\\n",
       "\t19 & 5.1 & 3.8 & 1.5 & 0.3 & 0  \\\\\n",
       "\t20 & 5.4 & 3.4 & 1.7 & 0.2 & 0  \\\\\n",
       "\t21 & 5.1 & 3.7 & 1.5 & 0.4 & 0  \\\\\n",
       "\t22 & 4.6 & 3.6 & 1.0 & 0.2 & 0  \\\\\n",
       "\t23 & 5.1 & 3.3 & 1.7 & 0.5 & 0  \\\\\n",
       "\t24 & 4.8 & 3.4 & 1.9 & 0.2 & 0  \\\\\n",
       "\t25 & 5.0 & 3.0 & 1.6 & 0.2 & 0  \\\\\n",
       "\t26 & 5.0 & 3.4 & 1.6 & 0.4 & 0  \\\\\n",
       "\t27 & 5.2 & 3.5 & 1.5 & 0.2 & 0  \\\\\n",
       "\t28 & 5.2 & 3.4 & 1.4 & 0.2 & 0  \\\\\n",
       "\t29 & 4.7 & 3.2 & 1.6 & 0.2 & 0  \\\\\n",
       "\t⋮ & ⋮ & ⋮ & ⋮ & ⋮ & ⋮\\\\\n",
       "\t120 & 6.9 & 3.2 & 5.7 & 2.3 & 2  \\\\\n",
       "\t121 & 5.6 & 2.8 & 4.9 & 2.0 & 2  \\\\\n",
       "\t122 & 7.7 & 2.8 & 6.7 & 2.0 & 2  \\\\\n",
       "\t123 & 6.3 & 2.7 & 4.9 & 1.8 & 2  \\\\\n",
       "\t124 & 6.7 & 3.3 & 5.7 & 2.1 & 2  \\\\\n",
       "\t125 & 7.2 & 3.2 & 6.0 & 1.8 & 2  \\\\\n",
       "\t126 & 6.2 & 2.8 & 4.8 & 1.8 & 2  \\\\\n",
       "\t127 & 6.1 & 3.0 & 4.9 & 1.8 & 2  \\\\\n",
       "\t128 & 6.4 & 2.8 & 5.6 & 2.1 & 2  \\\\\n",
       "\t129 & 7.2 & 3.0 & 5.8 & 1.6 & 2  \\\\\n",
       "\t130 & 7.4 & 2.8 & 6.1 & 1.9 & 2  \\\\\n",
       "\t131 & 7.9 & 3.8 & 6.4 & 2.0 & 2  \\\\\n",
       "\t132 & 6.4 & 2.8 & 5.6 & 2.2 & 2  \\\\\n",
       "\t133 & 6.3 & 2.8 & 5.1 & 1.5 & 2  \\\\\n",
       "\t134 & 6.1 & 2.6 & 5.6 & 1.4 & 2  \\\\\n",
       "\t135 & 7.7 & 3.0 & 6.1 & 2.3 & 2  \\\\\n",
       "\t136 & 6.3 & 3.4 & 5.6 & 2.4 & 2  \\\\\n",
       "\t137 & 6.4 & 3.1 & 5.5 & 1.8 & 2  \\\\\n",
       "\t138 & 6.0 & 3.0 & 4.8 & 1.8 & 2  \\\\\n",
       "\t139 & 6.9 & 3.1 & 5.4 & 2.1 & 2  \\\\\n",
       "\t140 & 6.7 & 3.1 & 5.6 & 2.4 & 2  \\\\\n",
       "\t141 & 6.9 & 3.1 & 5.1 & 2.3 & 2  \\\\\n",
       "\t142 & 5.8 & 2.7 & 5.1 & 1.9 & 2  \\\\\n",
       "\t143 & 6.8 & 3.2 & 5.9 & 2.3 & 2  \\\\\n",
       "\t144 & 6.7 & 3.3 & 5.7 & 2.5 & 2  \\\\\n",
       "\t145 & 6.7 & 3.0 & 5.2 & 2.3 & 2  \\\\\n",
       "\t146 & 6.3 & 2.5 & 5.0 & 1.9 & 2  \\\\\n",
       "\t147 & 6.5 & 3.0 & 5.2 & 2.0 & 2  \\\\\n",
       "\t148 & 6.2 & 3.4 & 5.4 & 2.3 & 2  \\\\\n",
       "\t149 & 5.9 & 3.0 & 5.1 & 1.8 & 2  \\\\\n",
       "\\end{tabular}\n"
      ],
      "text/markdown": [
       "\n",
       "| <!--/--> | sepal_length | sepal_width | petal_length | petal_width | label | \n",
       "|---|---|---|---|---|---|---|---|---|---|---|---|---|---|---|---|---|---|---|---|---|---|---|---|---|---|---|---|---|---|---|---|---|---|---|---|---|---|---|---|---|---|---|---|---|---|---|---|---|---|---|---|---|---|---|---|---|---|---|---|---|\n",
       "| 0 | 5.1 | 3.5 | 1.4 | 0.2 | 0   | \n",
       "| 1 | 4.9 | 3.0 | 1.4 | 0.2 | 0   | \n",
       "| 2 | 4.7 | 3.2 | 1.3 | 0.2 | 0   | \n",
       "| 3 | 4.6 | 3.1 | 1.5 | 0.2 | 0   | \n",
       "| 4 | 5.0 | 3.6 | 1.4 | 0.2 | 0   | \n",
       "| 5 | 5.4 | 3.9 | 1.7 | 0.4 | 0   | \n",
       "| 6 | 4.6 | 3.4 | 1.4 | 0.3 | 0   | \n",
       "| 7 | 5.0 | 3.4 | 1.5 | 0.2 | 0   | \n",
       "| 8 | 4.4 | 2.9 | 1.4 | 0.2 | 0   | \n",
       "| 9 | 4.9 | 3.1 | 1.5 | 0.1 | 0   | \n",
       "| 10 | 5.4 | 3.7 | 1.5 | 0.2 | 0   | \n",
       "| 11 | 4.8 | 3.4 | 1.6 | 0.2 | 0   | \n",
       "| 12 | 4.8 | 3.0 | 1.4 | 0.1 | 0   | \n",
       "| 13 | 4.3 | 3.0 | 1.1 | 0.1 | 0   | \n",
       "| 14 | 5.8 | 4.0 | 1.2 | 0.2 | 0   | \n",
       "| 15 | 5.7 | 4.4 | 1.5 | 0.4 | 0   | \n",
       "| 16 | 5.4 | 3.9 | 1.3 | 0.4 | 0   | \n",
       "| 17 | 5.1 | 3.5 | 1.4 | 0.3 | 0   | \n",
       "| 18 | 5.7 | 3.8 | 1.7 | 0.3 | 0   | \n",
       "| 19 | 5.1 | 3.8 | 1.5 | 0.3 | 0   | \n",
       "| 20 | 5.4 | 3.4 | 1.7 | 0.2 | 0   | \n",
       "| 21 | 5.1 | 3.7 | 1.5 | 0.4 | 0   | \n",
       "| 22 | 4.6 | 3.6 | 1.0 | 0.2 | 0   | \n",
       "| 23 | 5.1 | 3.3 | 1.7 | 0.5 | 0   | \n",
       "| 24 | 4.8 | 3.4 | 1.9 | 0.2 | 0   | \n",
       "| 25 | 5.0 | 3.0 | 1.6 | 0.2 | 0   | \n",
       "| 26 | 5.0 | 3.4 | 1.6 | 0.4 | 0   | \n",
       "| 27 | 5.2 | 3.5 | 1.5 | 0.2 | 0   | \n",
       "| 28 | 5.2 | 3.4 | 1.4 | 0.2 | 0   | \n",
       "| 29 | 4.7 | 3.2 | 1.6 | 0.2 | 0   | \n",
       "| ⋮ | ⋮ | ⋮ | ⋮ | ⋮ | ⋮ | \n",
       "| 120 | 6.9 | 3.2 | 5.7 | 2.3 | 2   | \n",
       "| 121 | 5.6 | 2.8 | 4.9 | 2.0 | 2   | \n",
       "| 122 | 7.7 | 2.8 | 6.7 | 2.0 | 2   | \n",
       "| 123 | 6.3 | 2.7 | 4.9 | 1.8 | 2   | \n",
       "| 124 | 6.7 | 3.3 | 5.7 | 2.1 | 2   | \n",
       "| 125 | 7.2 | 3.2 | 6.0 | 1.8 | 2   | \n",
       "| 126 | 6.2 | 2.8 | 4.8 | 1.8 | 2   | \n",
       "| 127 | 6.1 | 3.0 | 4.9 | 1.8 | 2   | \n",
       "| 128 | 6.4 | 2.8 | 5.6 | 2.1 | 2   | \n",
       "| 129 | 7.2 | 3.0 | 5.8 | 1.6 | 2   | \n",
       "| 130 | 7.4 | 2.8 | 6.1 | 1.9 | 2   | \n",
       "| 131 | 7.9 | 3.8 | 6.4 | 2.0 | 2   | \n",
       "| 132 | 6.4 | 2.8 | 5.6 | 2.2 | 2   | \n",
       "| 133 | 6.3 | 2.8 | 5.1 | 1.5 | 2   | \n",
       "| 134 | 6.1 | 2.6 | 5.6 | 1.4 | 2   | \n",
       "| 135 | 7.7 | 3.0 | 6.1 | 2.3 | 2   | \n",
       "| 136 | 6.3 | 3.4 | 5.6 | 2.4 | 2   | \n",
       "| 137 | 6.4 | 3.1 | 5.5 | 1.8 | 2   | \n",
       "| 138 | 6.0 | 3.0 | 4.8 | 1.8 | 2   | \n",
       "| 139 | 6.9 | 3.1 | 5.4 | 2.1 | 2   | \n",
       "| 140 | 6.7 | 3.1 | 5.6 | 2.4 | 2   | \n",
       "| 141 | 6.9 | 3.1 | 5.1 | 2.3 | 2   | \n",
       "| 142 | 5.8 | 2.7 | 5.1 | 1.9 | 2   | \n",
       "| 143 | 6.8 | 3.2 | 5.9 | 2.3 | 2   | \n",
       "| 144 | 6.7 | 3.3 | 5.7 | 2.5 | 2   | \n",
       "| 145 | 6.7 | 3.0 | 5.2 | 2.3 | 2   | \n",
       "| 146 | 6.3 | 2.5 | 5.0 | 1.9 | 2   | \n",
       "| 147 | 6.5 | 3.0 | 5.2 | 2.0 | 2   | \n",
       "| 148 | 6.2 | 3.4 | 5.4 | 2.3 | 2   | \n",
       "| 149 | 5.9 | 3.0 | 5.1 | 1.8 | 2   | \n",
       "\n",
       "\n"
      ],
      "text/plain": [
       "    sepal_length sepal_width petal_length petal_width label\n",
       "0   5.1          3.5         1.4          0.2         0    \n",
       "1   4.9          3.0         1.4          0.2         0    \n",
       "2   4.7          3.2         1.3          0.2         0    \n",
       "3   4.6          3.1         1.5          0.2         0    \n",
       "4   5.0          3.6         1.4          0.2         0    \n",
       "5   5.4          3.9         1.7          0.4         0    \n",
       "6   4.6          3.4         1.4          0.3         0    \n",
       "7   5.0          3.4         1.5          0.2         0    \n",
       "8   4.4          2.9         1.4          0.2         0    \n",
       "9   4.9          3.1         1.5          0.1         0    \n",
       "10  5.4          3.7         1.5          0.2         0    \n",
       "11  4.8          3.4         1.6          0.2         0    \n",
       "12  4.8          3.0         1.4          0.1         0    \n",
       "13  4.3          3.0         1.1          0.1         0    \n",
       "14  5.8          4.0         1.2          0.2         0    \n",
       "15  5.7          4.4         1.5          0.4         0    \n",
       "16  5.4          3.9         1.3          0.4         0    \n",
       "17  5.1          3.5         1.4          0.3         0    \n",
       "18  5.7          3.8         1.7          0.3         0    \n",
       "19  5.1          3.8         1.5          0.3         0    \n",
       "20  5.4          3.4         1.7          0.2         0    \n",
       "21  5.1          3.7         1.5          0.4         0    \n",
       "22  4.6          3.6         1.0          0.2         0    \n",
       "23  5.1          3.3         1.7          0.5         0    \n",
       "24  4.8          3.4         1.9          0.2         0    \n",
       "25  5.0          3.0         1.6          0.2         0    \n",
       "26  5.0          3.4         1.6          0.4         0    \n",
       "27  5.2          3.5         1.5          0.2         0    \n",
       "28  5.2          3.4         1.4          0.2         0    \n",
       "29  4.7          3.2         1.6          0.2         0    \n",
       "⋮   ⋮            ⋮           ⋮            ⋮           ⋮    \n",
       "120 6.9          3.2         5.7          2.3         2    \n",
       "121 5.6          2.8         4.9          2.0         2    \n",
       "122 7.7          2.8         6.7          2.0         2    \n",
       "123 6.3          2.7         4.9          1.8         2    \n",
       "124 6.7          3.3         5.7          2.1         2    \n",
       "125 7.2          3.2         6.0          1.8         2    \n",
       "126 6.2          2.8         4.8          1.8         2    \n",
       "127 6.1          3.0         4.9          1.8         2    \n",
       "128 6.4          2.8         5.6          2.1         2    \n",
       "129 7.2          3.0         5.8          1.6         2    \n",
       "130 7.4          2.8         6.1          1.9         2    \n",
       "131 7.9          3.8         6.4          2.0         2    \n",
       "132 6.4          2.8         5.6          2.2         2    \n",
       "133 6.3          2.8         5.1          1.5         2    \n",
       "134 6.1          2.6         5.6          1.4         2    \n",
       "135 7.7          3.0         6.1          2.3         2    \n",
       "136 6.3          3.4         5.6          2.4         2    \n",
       "137 6.4          3.1         5.5          1.8         2    \n",
       "138 6.0          3.0         4.8          1.8         2    \n",
       "139 6.9          3.1         5.4          2.1         2    \n",
       "140 6.7          3.1         5.6          2.4         2    \n",
       "141 6.9          3.1         5.1          2.3         2    \n",
       "142 5.8          2.7         5.1          1.9         2    \n",
       "143 6.8          3.2         5.9          2.3         2    \n",
       "144 6.7          3.3         5.7          2.5         2    \n",
       "145 6.7          3.0         5.2          2.3         2    \n",
       "146 6.3          2.5         5.0          1.9         2    \n",
       "147 6.5          3.0         5.2          2.0         2    \n",
       "148 6.2          3.4         5.4          2.3         2    \n",
       "149 5.9          3.0         5.1          1.8         2    "
      ]
     },
     "metadata": {},
     "output_type": "display_data"
    }
   ],
   "source": [
    "iris.data = read.csv(\"data/iris.csv\", row.names='X')"
   ]
  },
  {
   "cell_type": "code",
   "execution_count": 18,
   "metadata": {},
   "outputs": [
    {
     "data": {
      "text/plain": [
       "\n",
       "Call:\n",
       "glm(formula = \"label ~ 1 + sepal_length + sepal_width + petal_length + petal_width\", \n",
       "    data = iris.data)\n",
       "\n",
       "Deviance Residuals: \n",
       "     Min        1Q    Median        3Q       Max  \n",
       "-0.59046  -0.15230   0.01338   0.10332   0.55061  \n",
       "\n",
       "Coefficients:\n",
       "             Estimate Std. Error t value Pr(>|t|)    \n",
       "(Intercept)   0.19208    0.20470   0.938 0.349611    \n",
       "sepal_length -0.10974    0.05776  -1.900 0.059418 .  \n",
       "sepal_width  -0.04424    0.05996  -0.738 0.461832    \n",
       "petal_length  0.22700    0.05699   3.983 0.000107 ***\n",
       "petal_width   0.60989    0.09447   6.456 1.52e-09 ***\n",
       "---\n",
       "Signif. codes:  0 ‘***’ 0.001 ‘**’ 0.01 ‘*’ 0.05 ‘.’ 0.1 ‘ ’ 1\n",
       "\n",
       "(Dispersion parameter for gaussian family taken to be 0.04798457)\n",
       "\n",
       "    Null deviance: 100.0000  on 149  degrees of freedom\n",
       "Residual deviance:   6.9578  on 145  degrees of freedom\n",
       "AIC: -22.935\n",
       "\n",
       "Number of Fisher Scoring iterations: 2\n"
      ]
     },
     "metadata": {},
     "output_type": "display_data"
    }
   ],
   "source": [
    "iris.glm = glm(\"label ~ 1 + sepal_length + sepal_width + petal_length + petal_width\", data = iris.data)\n",
    "summary(iris.glm)"
   ]
  },
  {
   "cell_type": "markdown",
   "metadata": {},
   "source": [
    "## The Log-Likelihood\n",
    "\n",
    "Without going too far into the math, we can think of the log-likelihood as a **likelihood function** telling us how likely a model is given the data. "
   ]
  },
  {
   "cell_type": "markdown",
   "metadata": {},
   "source": [
    "This value is not human interpretable but is useful as a comparison."
   ]
  },
  {
   "cell_type": "code",
   "execution_count": 3,
   "metadata": {},
   "outputs": [
    {
     "data": {
      "text/plain": [
       "'log Lik.' 17.46751 (df=6)"
      ]
     },
     "metadata": {},
     "output_type": "display_data"
    }
   ],
   "source": [
    "logLik(iris.glm)"
   ]
  },
  {
   "cell_type": "markdown",
   "metadata": {},
   "source": [
    "\"All models are wrong, but some are useful.\" - George Box"
   ]
  },
  {
   "cell_type": "markdown",
   "metadata": {},
   "source": [
    "We might be concerned with one additional property - the **complexity** of the model. \n",
    "\n",
    "##### William of Occam\n",
    "\n",
    "[**Occam's razor**](https://en.wikipedia.org/wiki/Occam's_razor) is the problem-solving principle that, when presented with competing hypothetical answers to a problem, one should select the one that makes the fewest assumptions.\n",
    "\n",
    "<img src=\"https://upload.wikimedia.org/wikipedia/commons/a/ab/William_of_Ockham_-_Logica_1341.jpg\" width=400px>"
   ]
  },
  {
   "cell_type": "markdown",
   "metadata": {},
   "source": [
    "We can represent this idea of complexity in terms of both the number of features we use and the amount of data."
   ]
  },
  {
   "cell_type": "markdown",
   "metadata": {},
   "source": [
    "## Bayesian Information Criterion\n",
    "\n",
    "https://en.wikipedia.org/wiki/Bayesian_information_criterion\n",
    "\n",
    "The BIC is formally defined as\n",
    "\n",
    "$$ \\mathrm{BIC} = {\\ln(n)k - 2\\ln({\\widehat L})}. $$\n",
    "\n",
    "where\n",
    "\n",
    "- $\\widehat L$ = the maximized value of the likelihood function of the model $M$\n",
    "- $x$ = the observed data\n",
    "- $n$ = the number of data points in $x$, the number of observations, or equivalently, the sample size;\n",
    "- $k$ = the number of parameters estimated by the model. For example, in multiple linear regression, the estimated parameters are the intercept, the $q$ slope parameters, and the constant variance of the errors; thus, $k = q + 2$.\n",
    "\n",
    "\n",
    "It might help us to think of it as \n",
    "\n",
    "$$ \\mathrm{BIC} = \\text{complexity}-\\text{likelihood}$$"
   ]
  },
  {
   "cell_type": "code",
   "execution_count": 4,
   "metadata": {},
   "outputs": [
    {
     "data": {
      "text/html": [
       "-4.87121487462612"
      ],
      "text/latex": [
       "-4.87121487462612"
      ],
      "text/markdown": [
       "-4.87121487462612"
      ],
      "text/plain": [
       "[1] -4.871215"
      ]
     },
     "metadata": {},
     "output_type": "display_data"
    }
   ],
   "source": [
    "BIC(iris.glm)"
   ]
  },
  {
   "cell_type": "code",
   "execution_count": 5,
   "metadata": {},
   "outputs": [
    {
     "data": {
      "text/plain": [
       "'log Lik.' -4.871215 (df=6)"
      ]
     },
     "metadata": {},
     "output_type": "display_data"
    }
   ],
   "source": [
    "n = length(iris.glm$fitted.values)\n",
    "p = length(coefficients(iris.glm))\n",
    "\n",
    "likelihood = 2 * logLik(iris.glm)\n",
    "complexity = log(n)*(p+1)\n",
    "\n",
    "bic = complexity - likelihood\n",
    "bic"
   ]
  },
  {
   "cell_type": "code",
   "execution_count": 6,
   "metadata": {},
   "outputs": [],
   "source": [
    "BIC_of_model = function (model) {\n",
    "    n = length(model$fitted.values)\n",
    "    p = length(coefficients(model))\n",
    "\n",
    "    likelihood = 2 * logLik(model)\n",
    "    complexity = log(n)*(p+1)\n",
    "\n",
    "    bic = complexity - likelihood\n",
    "    return(bic)\n",
    "}"
   ]
  },
  {
   "cell_type": "code",
   "execution_count": 7,
   "metadata": {},
   "outputs": [
    {
     "data": {
      "text/plain": [
       "'log Lik.' -4.871215 (df=6)"
      ]
     },
     "metadata": {},
     "output_type": "display_data"
    }
   ],
   "source": [
    "BIC_of_model(iris.glm)"
   ]
  },
  {
   "cell_type": "markdown",
   "metadata": {},
   "source": [
    "## Model Selection\n",
    "\n",
    "Here, we choose the optimal model by removing features one by one."
   ]
  },
  {
   "cell_type": "code",
   "execution_count": 8,
   "metadata": {},
   "outputs": [],
   "source": [
    "model_1  = \"label ~ 1 + sepal_length + sepal_width + petal_length + petal_width\"\n",
    "model_2a = \"label ~ 1 + sepal_length + sepal_width + petal_length\"\n",
    "model_2b = \"label ~ 1 + sepal_length + sepal_width                + petal_width\"\n",
    "model_2c = \"label ~ 1 + sepal_length               + petal_length + petal_width\"\n",
    "model_2d = \"label ~ 1                + sepal_width + petal_length + petal_width\""
   ]
  },
  {
   "cell_type": "code",
   "execution_count": 9,
   "metadata": {},
   "outputs": [],
   "source": [
    "iris.glm.1 = glm(model_1, data=iris.data)\n",
    "iris.glm.2a = glm(model_2a, data=iris.data)\n",
    "iris.glm.2b = glm(model_2b, data=iris.data)\n",
    "iris.glm.2c = glm(model_2c, data=iris.data)\n",
    "iris.glm.2d = glm(model_2d, data=iris.data)"
   ]
  },
  {
   "cell_type": "code",
   "execution_count": 10,
   "metadata": {},
   "outputs": [
    {
     "name": "stdout",
     "output_type": "stream",
     "text": [
      "[1] \"model_1\"           \"-4.87121487462612\"\n",
      "[1] \"model_2a\"         \"28.0137935908893\"\n",
      "[1] \"model_2b\"         \"5.69337438932066\"\n",
      "[1] \"model_2c\"          \"-9.31979403027607\"\n",
      "[1] \"model_2d\"         \"-6.1930960954627\"\n"
     ]
    }
   ],
   "source": [
    "print(c('model_1', BIC_of_model(iris.glm.1)))\n",
    "print(c('model_2a', BIC_of_model(iris.glm.2a )))\n",
    "print(c('model_2b', BIC_of_model(iris.glm.2b )))\n",
    "print(c('model_2c', BIC_of_model(iris.glm.2c )))\n",
    "print(c('model_2d', BIC_of_model(iris.glm.2d )))"
   ]
  },
  {
   "cell_type": "code",
   "execution_count": 11,
   "metadata": {},
   "outputs": [
    {
     "name": "stdout",
     "output_type": "stream",
     "text": [
      "[1] \"model_1\"           \"-4.87121487462612\"\n",
      "[1] \"model_2a\"         \"28.0137935908893\"\n",
      "[1] \"model_2b\"         \"5.69337438932066\"\n",
      "[1] \"model_2c\"          \"-9.31979403027607\"\n",
      "[1] \"model_2d\"         \"-6.1930960954627\"\n"
     ]
    }
   ],
   "source": [
    "print(c('model_1', BIC(iris.glm.1)))\n",
    "print(c('model_2a', BIC(iris.glm.2a )))\n",
    "print(c('model_2b', BIC(iris.glm.2b )))\n",
    "print(c('model_2c', BIC(iris.glm.2c )))\n",
    "print(c('model_2d', BIC(iris.glm.2d )))"
   ]
  },
  {
   "cell_type": "code",
   "execution_count": 12,
   "metadata": {},
   "outputs": [],
   "source": [
    "model_1  = \"label ~ 1 + sepal_length + sepal_width + petal_length + petal_width\"\n",
    "model_2c = \"label ~ 1 + sepal_length               + petal_length + petal_width\"\n",
    "model_3a = \"label ~ 1 + sepal_length               + petal_length \"\n",
    "model_3b = \"label ~ 1 + sepal_length                              + petal_width\"\n",
    "model_3c = \"label ~ 1                              + petal_length + petal_width\""
   ]
  },
  {
   "cell_type": "code",
   "execution_count": 13,
   "metadata": {},
   "outputs": [],
   "source": [
    "iris.glm.3a = glm(model_3a, data=iris.data)\n",
    "iris.glm.3b = glm(model_3b, data=iris.data)\n",
    "iris.glm.3c = glm(model_3c, data=iris.data)"
   ]
  },
  {
   "cell_type": "code",
   "execution_count": 14,
   "metadata": {},
   "outputs": [
    {
     "name": "stdout",
     "output_type": "stream",
     "text": [
      "[1] \"model_1\"           \"-4.87121487462612\"\n",
      "[1] \"model_2c\"          \"-9.31979403027607\"\n",
      "[1] \"model_3a\"         \"25.3174210943167\"\n",
      "[1] \"model_3b\"         \"15.4504250116728\"\n",
      "[1] \"model_3c\"         \"-5.0467304546584\"\n"
     ]
    }
   ],
   "source": [
    "print(c('model_1', BIC(iris.glm.1)))\n",
    "print(c('model_2c', BIC(iris.glm.2c )))\n",
    "print(c('model_3a', BIC(iris.glm.3a )))\n",
    "print(c('model_3b', BIC(iris.glm.3b )))\n",
    "print(c('model_3c', BIC(iris.glm.3c )))\n",
    "\n",
    "-area: perimeter: kernel_length, kernel_width, kernel_groove_length\n",
    "-compactness: kernel width ~ kernel_groove_width"
   ]
  }
 ],
 "metadata": {
  "kernelspec": {
   "display_name": "R",
   "language": "R",
   "name": "ir"
  },
  "language_info": {
   "codemirror_mode": "r",
   "file_extension": ".r",
   "mimetype": "text/x-r-source",
   "name": "R",
   "pygments_lexer": "r",
   "version": "3.4.1"
  }
 },
 "nbformat": 4,
 "nbformat_minor": 2
}
